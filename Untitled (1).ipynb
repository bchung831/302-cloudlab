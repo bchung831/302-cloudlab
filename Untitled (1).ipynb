{
 "cells": [
  {
   "cell_type": "markdown",
   "metadata": {},
   "source": [
    "# Buffer-overflow Lab \n"
   ]
  },
  {
   "cell_type": "code",
   "execution_count": null,
   "metadata": {},
   "outputs": [],
   "source": []
  },
  {
   "cell_type": "markdown",
   "metadata": {},
   "source": [
    "### What is a Buffer Overflow attack?\n",
    "A buffer overflow occurs when a program or process attempts to write more data to a fixed length block of memory causing the data to overflow to other buffers, which can corrupt or overwrite whatever data they were holding.\n",
    "\n",
    "In terms of a buffer-overflow attack the extra data that is overwritten could hold malicious instructions that could trigger a respone that could cause a program to crash or run something else. If the program that triggers the buffer overflow attack is privileged this could result in potential privilege escalation for something malicious.\n"
   ]
  },
  {
   "cell_type": "markdown",
   "metadata": {},
   "source": [
    "### The Difference Between a 32-bit and a 64-bit Buffer Overflow attack?\n"
   ]
  },
  {
   "cell_type": "markdown",
   "metadata": {},
   "source": [
    "The major difference between x32 and x64 machines are the length of the memory addresses. In a 64 bit machine the memory address are 64 bit long, but addresses greater than 0x0000FFFFFFFFFFF (48 bits) will raise an exception and cause a segmentation fault.\n",
    "\n",
    "64-bit registers have names beginning with \"R\", 32-bit registers begin with \"E\"\n",
    "\n",
    "The RPB register points to the base of the current stack frame (32-bit EBP)\n",
    "The RSP register points to the top of the current stack frame (32-bit ESP)\n",
    "The RIP register points to the next processor instruction"
   ]
  },
  {
   "cell_type": "markdown",
   "metadata": {},
   "source": [
    "### 1. Overview\n",
    "The learning objective of this lab is for students to gain the first-hand experience on buffer-overflow vulnerability\n",
    "by putting what they have learned about the vulnerability from class into action. Buffer overflow is\n",
    "defined as the condition in which a program attempts to write data beyond the boundaries of pre-allocated\n",
    "fixed length buffers. This vulnerability can be used by a malicious user to alter the flow control of the program,\n",
    "leading to the execution of malicious code. This vulnerability arises due to the mixing of the storage\n",
    "for data (e.g. buffers) and the storage for controls (e.g. return addresses): an overflow in the data part can\n",
    "affect the control flow of the program, because an overflow can change the return address.\n",
    "In this lab, students will be given a program with a buffer-overflow vulnerability; their task is to develop\n",
    "a scheme to exploit the vulnerability and finally gain the root privilege. In addition to the attacks, students\n",
    "will be guided to walk through several protection schemes that have been implemented in the operating\n",
    "system to counter against buffer-overflow attacks. Students need to evaluate whether the schemes work or\n",
    "not and explain why. This lab covers the following topics:\n",
    "\n",
    "- Buffer overflow vulnerability and attack\n",
    "- Stack layout in a function invocation\n",
    "- Shellcode\n",
    "- Address randomization\n",
    "- Non-executable stack\n",
    "- StackGuard"
   ]
  },
  {
   "cell_type": "code",
   "execution_count": null,
   "metadata": {},
   "outputs": [],
   "source": []
  },
  {
   "cell_type": "markdown",
   "metadata": {},
   "source": [
    "### Setting Up Jupyter Via Cloudlab Console"
   ]
  },
  {
   "cell_type": "markdown",
   "metadata": {},
   "source": [
    "After instantiation is complete and anaconda is installed, open up a shell node on the list view tab in CloudLab\n",
    "\n",
    "Once you are in the terminal you will want to change user id to seed. In our lab the seed account has root privileges. In order to gain access to seed you need to input the password ***dees*** \n",
    "\n",
    "```\n",
    "$ su seed\n",
    "Password: dees\n",
    "```\n",
    "\n",
    "Once you are under the seed account change directories to /local/repository/. The reason being you want your Juypter home directory to be /local/repository/ because that is where all the files will be readily available.\n",
    "```\n",
    "seed@node:~$ cd /local/repository\n",
    "seed@node:/local/repository$\n",
    "```\n",
    "\n",
    "Once you are in your local repository you will want to check your ip address in order to access the notebook.\n",
    "```\n",
    "seed@node:/local/repository$ ip addr\n",
    "1: lo: <LOOPBACK,UP,LOWER_UP> mtu 65536 qdisc noqueue state UNKNOWN group default qlen 1000\n",
    "    link/loopback 00:00:00:00:00:00 brd 00:00:00:00:00:00\n",
    "    inet 127.0.0.1/8 scope host lo\n",
    "       valid_lft forever preferred_lft forever\n",
    "    inet6 ::1/128 scope host\n",
    "       valid_lft forever preferred_lft forever\n",
    "2: eth0: <BROADCAST,MULTICAST,UP,LOWER_UP> mtu 1500 qdisc fq_codel state UP group default qlen 1000\n",
    "    link/ether 02:2f:eb:3e:a7:10 brd ff:ff:ff:ff:ff:ff\n",
    "    inet 130.127.135.7/22 brd 130.127.135.255 scope global eth0\n",
    "       valid_lft forever preferred_lft forever\n",
    "    inet6 fe80::2f:ebff:fe3e:a710/64 scope link\n",
    "       valid_lft forever preferred_lft forever\n",
    "```\n",
    "In the example above our IP address is 130.127.135.7\n",
    "\n",
    "After you have discovered your ip address you are able to open a jupyter note book input the following code\n",
    "```\n",
    "seed@node:/local/repository$ jupypter notebook --generate-config\n",
    "\n",
    "Writing default config to: /home/seed/.jupyter/jupyter_notebook_config.py\n",
    "```\n",
    "After generating the config file you will want to set the jupyter notebook passwordless by entering the following code and when prompted to create a password you hit the [Enter] key.\n",
    "```\n",
    "seed@node:/local/repository$ juypter notebook password\n",
    "\n",
    "Enter password:\n",
    "Verify password:\n",
    "\n",
    "[NotebookPasswordApp] Wrote hashed password to /home/seed/.jupyter/juypter_notebook_config.json\n",
    "```\n",
    "Now we are able to launch our notebook which will launch into a seed account. We will use the inet IP address we found a few steps to launch the notebook. Input the following code\n",
    "```\n",
    "seed@node:/local/repository$ juypter notebook --ip 130.127.135.7 --no-browser\n",
    "\n",
    "[I 18:51:36.564 NotebookApp] Writing notebook server cookie secret to /home/seed/.local/share/jupyter/runtime/notebook_cookie_secret\n",
    "[I 18:51:37.287 NotebookApp] JupyterLab extension loaded from /opt/anaconda3/lib/python3.7/site-packages/jupyterlab\n",
    "[I 18:51:37.288 NotebookApp] JupyterLab application directory is /opt/anaconda3/share/jupyter/lab\n",
    "[I 18:51:37.291 NotebookApp] Serving notebooks from local directory: /home/seed\n",
    "[I 18:51:37.291 NotebookApp] The Jupyter Notebook is running at:\n",
    "[I 18:51:37.291 NotebookApp] http://130.127.135.7:8888/\n",
    "[I 18:51:37.291 NotebookApp] Use Control-C to stop this server and shut down all kernels (twice to skip confirmation).\n",
    "[I 18:51:46.186 NotebookApp] 302 GET / (108.4.213.14) 0.49ms\n",
    "[I 18:51:46.274 NotebookApp] 302 GET /tree? (108.4.213.14) 0.45ms\n",
    "[I 18:51:49.888 NotebookApp] 302 POST /login?next=%2Ftree%3F (108.4.213.14) 0.60ms\n",
    "[I 18:52:05.236 NotebookApp] New terminal with automatic name: 1\n",
    "TermSocket.open: 1\n",
    "TermSocket.open: Opened 1\n",
    "```\n",
    "By clicking on the link http://130.127.135.7:8888/ we are able to launch a notebook.\n",
    "\n",
    "*The link and IP address will be different depending on what server you are instantiating from.\n",
    "\n",
    "Once you are in the notebook you will be able to run and compile code through the notebook and also have access to a jupyter terminal shell through your web browser.\n"
   ]
  },
  {
   "cell_type": "code",
   "execution_count": null,
   "metadata": {},
   "outputs": [],
   "source": []
  },
  {
   "cell_type": "markdown",
   "metadata": {},
   "source": [
    "### 2. Lab Tasks"
   ]
  },
  {
   "cell_type": "markdown",
   "metadata": {},
   "source": [
    "### 2.1 Turning Off Countermeasures\n",
    "\n",
    "**Address Space Randomization**\n",
    "Ubuntu and several other Linux-based systems uses address space randomization to randomize the starting address of heap and stack. This makes guessing the exact addresses difficult; guessing addresses is one of the critical steps of buffer-overflow attacks. In this lab, we disable this feature using the following command:\n",
    "```\n",
    "$ sudo sysctl -w kernel.randomize_va_space=0\n",
    "```\n",
    "**The StackGuard Protection Scheme**\n",
    "The GCC compiler implements a security mechanism called StackGuard\n",
    "to prevent buffer overflows. In the presence of this protection, buffer overflow attacks will not work.\n",
    "We can disable this protection during the compilation using the `-fno-stack-protector` option. For example,\n",
    "to compile a program example.c with StackGuard disabled, we can do the following:\n",
    "\n",
    "```\n",
    "$ gcc -fno-stack-protector example.c\n",
    "```\n",
    "**Non-Executable Stack**\n",
    "\n",
    "Ubuntu used to allow executable stacks, but this has now changed: the binary images of programs (and shared libraries) must declare whether they require executable stacks or not, i.e., they need to mark a field in the program header. Kernel or dynamic linker uses this marking to decide whether to make the stack of this running program executable or non-executable. This marking is done automatically by the recent versions of gcc, and by default, stacks are set to be non-executable. To change that, use the following option when compiling programs:\n",
    "\n",
    "For executable stack:\n",
    "\n",
    "```\n",
    "$ gcc -z execstack -o test test.c\n",
    "```\n",
    "\n",
    "For non-executable stack:\n",
    "\n",
    "```\n",
    "$ gcc -z noexecstack -o test test.c\n",
    "```"
   ]
  },
  {
   "cell_type": "code",
   "execution_count": null,
   "metadata": {},
   "outputs": [],
   "source": []
  }
 ],
 "metadata": {
  "kernelspec": {
   "display_name": "Python 3",
   "language": "python",
   "name": "python3"
  },
  "language_info": {
   "codemirror_mode": {
    "name": "ipython",
    "version": 3
   },
   "file_extension": ".py",
   "mimetype": "text/x-python",
   "name": "python",
   "nbconvert_exporter": "python",
   "pygments_lexer": "ipython3",
   "version": "3.6.5"
  }
 },
 "nbformat": 4,
 "nbformat_minor": 2
}
